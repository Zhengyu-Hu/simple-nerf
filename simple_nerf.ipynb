{
  "cells": [
    {
      "cell_type": "markdown",
      "metadata": {
        "id": "oHqTVHpV3s0Z"
      },
      "source": [
        "# 初始化"
      ]
    },
    {
      "cell_type": "code",
      "execution_count": 25,
      "metadata": {
        "colab": {
          "base_uri": "https://localhost:8080/"
        },
        "id": "1zK3GpJM3VN5",
        "outputId": "a789f23b-b64c-43b4-c5af-4e8036dd5a24"
      },
      "outputs": [
        {
          "name": "stdout",
          "output_type": "stream",
          "text": [
            "Fri Feb 28 07:55:11 2025       \n",
            "+-----------------------------------------------------------------------------------------+\n",
            "| NVIDIA-SMI 560.35.03              Driver Version: 560.35.03      CUDA Version: 12.6     |\n",
            "|-----------------------------------------+------------------------+----------------------+\n",
            "| GPU  Name                 Persistence-M | Bus-Id          Disp.A | Volatile Uncorr. ECC |\n",
            "| Fan  Temp   Perf          Pwr:Usage/Cap |           Memory-Usage | GPU-Util  Compute M. |\n",
            "|                                         |                        |               MIG M. |\n",
            "|=========================================+========================+======================|\n",
            "|   0  Tesla P100-PCIE-16GB           Off |   00000000:00:04.0 Off |                    0 |\n",
            "| N/A   42C    P0             34W /  250W |     267MiB /  16384MiB |      0%      Default |\n",
            "|                                         |                        |                  N/A |\n",
            "+-----------------------------------------+------------------------+----------------------+\n",
            "                                                                                         \n",
            "+-----------------------------------------------------------------------------------------+\n",
            "| Processes:                                                                              |\n",
            "|  GPU   GI   CI        PID   Type   Process name                              GPU Memory |\n",
            "|        ID   ID                                                               Usage      |\n",
            "|=========================================================================================|\n",
            "+-----------------------------------------------------------------------------------------+\n"
          ]
        }
      ],
      "source": [
        "!nvidia-smi"
      ]
    },
    {
      "cell_type": "code",
      "execution_count": 26,
      "metadata": {
        "id": "pfGnKVFnNdyJ"
      },
      "outputs": [],
      "source": [
        "import matplotlib.pyplot as plt\n",
        "import numpy as np\n",
        "import torch\n",
        "from torch import nn, optim\n",
        "import os\n",
        "from tqdm import trange"
      ]
    },
    {
      "cell_type": "markdown",
      "metadata": {
        "id": "EkKAgy9Q18Vc"
      },
      "source": [
        "# 生成射线"
      ]
    },
    {
      "cell_type": "code",
      "execution_count": 27,
      "metadata": {
        "id": "m0CBfTHJ1-Ex"
      },
      "outputs": [],
      "source": [
        "# 生成的射线仅有相机自身的内参和外参有关，和图片本身是什么颜色无关\n",
        "def get_rays(H, W, focal, c2w):\n",
        "  '''\n",
        "  c2w = [ R_3x3, t_3x1\n",
        "      0_1x3, 1    ]\n",
        "  前3行3列表示旋转\n",
        "  t表示平移\n",
        "  '''\n",
        "  i, j = torch.meshgrid(torch.linspace(0, W-1, W), torch.linspace(0, H-1, H))  # pytorch's meshgrid has indexing='ij'\n",
        "  i = i.t()\n",
        "  j = j.t()\n",
        "  # 除以焦距归一化 参见https://www.youtube.com/watch?v=ujkec9KBnI8\n",
        "  dirs = torch.stack([(i-W*.5)/focal, -(j-H*.5)/focal, -torch.ones_like(i)], -1).to(c2w)\n",
        "  # [3,3] * [H, W, 1, 3] 对应元素相乘，再求和 <=> c2w @ dir in dirs\n",
        "  rays_d = torch.sum(dirs.unsqueeze(-2) * c2w[:3,:3], -1)\n",
        "  # 转换为方向向量\n",
        "  rays_d = rays_d / torch.norm(rays_d, dim=-1, keepdim=True)\n",
        "  # Translate camera frame's origin to the world frame. It is the origin of all rays.\n",
        "  rays_o = c2w[:3,-1].expand(rays_d.shape)\n",
        "  return rays_o, rays_d\n",
        "\n",
        "def get_rays_v2(H, W, focal, c2w):\n",
        "    # 1. 先构建固定的相机坐标\n",
        "    xs = torch.arange(W) - (W/2 - 0.5)\n",
        "    ys = torch.arange(H) - (H/2 - 0.5)\n",
        "    (xs, ys) = torch.meshgrid(xs, -ys, indexing=\"xy\")  # 注意这里用-ys\n",
        "\n",
        "    # 2. 归一化到相机坐标系\n",
        "    camera_coords = torch.stack([\n",
        "        xs/focal,\n",
        "        ys/focal,\n",
        "        -torch.ones_like(xs)\n",
        "    ], dim=-1).to(c2w)\n",
        "\n",
        "    # 3. 设置固定原点\n",
        "    camera_origin = torch.Tensor([0, 0, float(data[\"camera_distance\"])]).to(c2w)\n",
        "\n",
        "    # 4. 通过变换矩阵转换到世界坐标系\n",
        "    R = c2w[:3,:3]\n",
        "    rays_d = torch.einsum(\"ij,hwj->hwi\", R, camera_coords)\n",
        "    rays_o = (R @ camera_origin).expand(rays_d.shape)\n",
        "\n",
        "    return rays_o, rays_d"
      ]
    },
    {
      "cell_type": "markdown",
      "metadata": {
        "id": "hD3vdG_RwdPn"
      },
      "source": [
        "# 采样\n",
        "获得粗采样和细采样点的深度"
      ]
    },
    {
      "cell_type": "code",
      "execution_count": 28,
      "metadata": {
        "id": "jmgK3X5G3q_f"
      },
      "outputs": [],
      "source": [
        "# 注意，r = o + t*d，其中d需要是方向向量\n",
        "def get_coarse_query_pts(rays_o, rays_d ,N_c, t_edges, t_gap):\n",
        "  '''\n",
        "  t_edges [1,N_c]\n",
        "  t_gap float\n",
        "  rays_o,rays_d [H,W,3]\n",
        "  '''\n",
        "\n",
        "  u = torch.rand([*rays_d.shape[:2], N_c]).to(rays_d) # [H,W,N_c] to可以保持跟rays_d一样的数据类型和设备类型\n",
        "  t = t_edges + u * t_gap # [H,W,N_c]\n",
        "  # r = o + t*d\n",
        "  r = rays_o.unsqueeze(-2) + t.unsqueeze(-1) * rays_d.unsqueeze(-2) # [H,W,N_c,3]\n",
        "  # r是t对应位置的坐标,即射线上点的坐标\n",
        "  # t是距离，即射线上点到射线原点的距离\n",
        "  return r, t\n",
        "\n",
        "def get_fine_query_pts(rays_o, rays_d ,N_f, weights, t):\n",
        "  '''\n",
        "  weights [H,W,N_c]\n",
        "  '''\n",
        "  weights = weights + 1e-5 # 小心这里不要用+=，这是inplace operation，可能会梯度计算出错\n",
        "  pdf = weights / torch.sum(weights, -1, keepdim=True)\n",
        "  cdf = torch.cumsum(pdf, -1)\n",
        "  # 获得初始概率为0的分布函数\n",
        "  cdf = torch.cat([torch.zeros_like(cdf[..., :1]), cdf[..., :-1]], -1) # [H,W,N_c]\n",
        "\n",
        "  # u和cdf对应的都是概率\n",
        "  u = torch.rand([*rays_d.shape[:-1],N_f]).to(weights) # [H,W,N_f]，每条射线都有N_f个精细采样点等待放置\n",
        "  idxs = torch.searchsorted(cdf, u, right=True) # u<=cdf的最后一个索引\n",
        "\n",
        "  # F(t) = cdf，其中t和cdf是按照索引对应的\n",
        "  # 那么u-cdf-t，可以如此找到对应的t\n",
        "  # u会被放置在对应的区间[t_fine_left,t_fine_right]内\n",
        "  t_fine_left = torch.gather(t, -1, idxs-1)\n",
        "\n",
        "  # 防止索引越界\n",
        "  idxs_capped = idxs.clone()\n",
        "  max_idx = cdf.shape[-1]\n",
        "\n",
        "  idxs_capped[idxs_capped == max_idx] = max_idx - 1\n",
        "\n",
        "  t_fine_right = torch.gather(t, -1, idxs_capped)\n",
        "\n",
        "  t_gaps = t_fine_right - t_fine_left\n",
        "\n",
        "  # 得到上下界t对应的cdf\n",
        "  # 参见https://github.com/bmild/nerf/issues/151\n",
        "  cdf_left = torch.gather(cdf, -1, idxs-1)\n",
        "  cdf_right = torch.gather(cdf, -1, idxs_capped)\n",
        "  cdf_gaps = cdf_right - cdf_left\n",
        "  cdf_gaps = torch.where(cdf_gaps < 1e-5, torch.ones_like(t_gaps), cdf_gaps) # 如果区间的差距太小就默认设置成1，防止变成inf\n",
        "  t_fine = (u-cdf_left)/cdf_gaps + t_fine_left # [H,W,N_f]\n",
        "\n",
        "  # 将粗采样点和细采样点放在一起\n",
        "  t_c_f = torch.cat([t, t_fine], -1)\n",
        "  t_c_f,_ = torch.sort(t_c_f ,dim=-1) # [H,W,N_c+N_f]\n",
        "  r = rays_o.unsqueeze(-2) + t_c_f.unsqueeze(-1) * rays_d.unsqueeze(-2) # [num_rays, N_c+N_f, 3]\n",
        "\n",
        "  return r, t_c_f"
      ]
    },
    {
      "cell_type": "markdown",
      "metadata": {
        "id": "_1hmw9ggwnOl"
      },
      "source": [
        "# 体渲染"
      ]
    },
    {
      "cell_type": "code",
      "execution_count": 29,
      "metadata": {
        "id": "XBG7wDy-wmym"
      },
      "outputs": [],
      "source": [
        "def render(r, t, rays_d, chunk_size, F):\n",
        "  # r [H,W,N_samples,3]\n",
        "  # t [H,W,N_samples]\n",
        "  # rays_d需要是方向向量 [H,W,3]\n",
        "  # F是网络\n",
        "\n",
        "  N_samples = r.shape[-2]\n",
        "  r_flat = r.reshape(-1,3)\n",
        "  rays_d = rays_d.unsqueeze(2).repeat(1, 1, N_samples, 1)\n",
        "  rays_d_flat = rays_d.reshape(-1,3)\n",
        "\n",
        "\n",
        "  colors = []\n",
        "  density = []\n",
        "\n",
        "  # 分批加入网络，防止out of memoray\n",
        "  for i in range(0, r_flat.shape[0], chunk_size):\n",
        "    r_chunk = r_flat[i:i+chunk_size]\n",
        "    rays_d_chunk = rays_d_flat[i:i+chunk_size]\n",
        "    preds = F(r_chunk, rays_d_chunk)\n",
        "    colors.append(preds['color'])\n",
        "    density.append(preds['density'])\n",
        "\n",
        "  colors = torch.cat(colors, 0).reshape(r.shape) # [H,W,N_samples,3]\n",
        "  density = torch.cat(density, 0).reshape(r.shape[:-1]) # [H,W,N_samples]\n",
        "\n",
        "  # 渲染\n",
        "  delta = torch.cat([t[..., 1:] - t[..., :-1], torch.ones_like(t[..., :1]) * 1e10], -1)\n",
        "  alpha = 1. - torch.exp(-density * delta)\n",
        "  # T_i = 1-alpha_i从1连乘到i-1\n",
        "  # i显然不能取1，i=1的时候默认就T_1取1\n",
        "  T = torch.cumprod(torch.cat([torch.ones_like(alpha[..., :1]), 1. - alpha + 1e-10], -1), -1)[..., :-1]\n",
        "  weights = alpha * T # [H,W,N_samples]\n",
        "\n",
        "  # 沿着距离轴/样点轴，来求和/积分\n",
        "  C = torch.sum(weights.unsqueeze(-1) * colors, -2)\n",
        "  return C, weights"
      ]
    },
    {
      "cell_type": "markdown",
      "metadata": {
        "id": "IRuhMWxpzmuQ"
      },
      "source": [
        "## 运行1轮NeRF从光线得到颜色\n"
      ]
    },
    {
      "cell_type": "code",
      "execution_count": 30,
      "metadata": {
        "id": "2i2uyKLX8VCN"
      },
      "outputs": [],
      "source": [
        "def run_one_iter_of_nerf(\n",
        "    rays_o, rays_d, t_edges, t_gap, N_c, N_f, chunk_size, F_c, F_f\n",
        "):\n",
        "  r_c, t_c = get_coarse_query_pts(rays_o, rays_d, N_c, t_edges, t_gap) # 得到粗采样点的坐标和深度\n",
        "  C_c, w_c = render(r_c, t_c, rays_d, chunk_size, F_c) # 渲染粗采样点\n",
        "\n",
        "  r_c_f, t_c_f = get_fine_query_pts(rays_o, rays_d, N_f, w_c, t_c) # 获得所有的采样点，即粗采样点+戏采样点\n",
        "  C_f, _ = render(r_c_f, t_c_f, rays_d, chunk_size, F_f) # 最终渲染\n",
        "\n",
        "  return C_c, C_f"
      ]
    },
    {
      "cell_type": "markdown",
      "metadata": {
        "id": "ZnUnQITow8MU"
      },
      "source": [
        "# NeRF架构"
      ]
    },
    {
      "cell_type": "code",
      "execution_count": 31,
      "metadata": {
        "id": "vcO5A0ACw_Mt"
      },
      "outputs": [],
      "source": [
        "class NeRF(nn.Module):\n",
        "  def __init__(self) -> None:\n",
        "    super().__init__()\n",
        "\n",
        "    # 位置编码的映射维度\n",
        "    self.L_pts = 10 # 空间位置的坐标的编码 point\n",
        "    self.L_dir = 4 # 方向/rays_d的坐标的编码 direction\n",
        "    # 编码后的维度 = 自身维度 + 嵌入函数的个数*（自身维度*L）\n",
        "    # 这里的嵌入函数是sin和cos两个\n",
        "    pts_dim = 3 + 2 * (3 * self.L_pts) # = 63\n",
        "    dirs_dim = 3 + 2 * (3 * self.L_dir) # = 27\n",
        "\n",
        "    input_dim = pts_dim\n",
        "    net_width = 256\n",
        "\n",
        "    # 参见NeRF原文最后的Additional Implementation Details\n",
        "    # 0-4号层是早期的普通线性层\n",
        "    num_early_layers = 5\n",
        "    early_mlp = []\n",
        "    for i in range(num_early_layers):\n",
        "      early_mlp.append(nn.Linear(input_dim, net_width))\n",
        "      early_mlp.append(nn.ReLU())\n",
        "      input_dim = net_width\n",
        "    self.early_mlp = nn.Sequential(*early_mlp)\n",
        "\n",
        "    # 后期线性层，5-7号层\n",
        "    # 注意这一层的输入要再嵌入初始的输入\n",
        "    input_dim = pts_dim + net_width\n",
        "    num_late_layers = 3\n",
        "    late_mlp = []\n",
        "    for i in range(num_late_layers):\n",
        "      late_mlp.append(nn.Linear(input_dim, net_width))\n",
        "      late_mlp.append(nn.ReLU())\n",
        "      input_dim = net_width\n",
        "    self.late_mlp = nn.Sequential(*late_mlp)\n",
        "\n",
        "    # 8号层\n",
        "    # 注意这一层没有激活函数，输出的密度需要经过relu使之非负\n",
        "    self.density_layer = nn.Linear(net_width, net_width + 1) # 这里的1就是输出的密度\n",
        "\n",
        "    # 9号层\n",
        "    # 注意这一层的输入要拼接dirs\n",
        "    self.pre_final_layer = nn.Sequential(\n",
        "        nn.Linear(dirs_dim + net_width, net_width // 2), # 256->128\n",
        "        nn.ReLU()\n",
        "    )\n",
        "\n",
        "    # 10号rgb层\n",
        "    self.final_layer = nn.Sequential(\n",
        "        nn.Linear(net_width // 2, 3), # 128->3\n",
        "        nn.Sigmoid()\n",
        "    )\n",
        "\n",
        "  def forward(self, pts, dirs):\n",
        "    # 位置编码\n",
        "\n",
        "    # 点坐标的编码\n",
        "    pts_encoded = [pts]\n",
        "\n",
        "    # 论文里有乘pi，但是作者的代码里没有乘。原因参见https://github.com/bmild/nerf/issues/12\n",
        "    # 计算的是所有点的第i个编码特征的值\n",
        "    for i in range(self.L_pts):\n",
        "      pts_encoded.append(torch.sin(2 ** i * torch.pi * pts))\n",
        "      pts_encoded.append(torch.cos(2 ** i * torch.pi * pts))\n",
        "    pts_encoded = torch.cat(pts_encoded, dim=-1)\n",
        "    # print(pts_encoded.shape)\n",
        "\n",
        "    # 方向的编码\n",
        "    dirs = dirs / torch.norm(dirs, dim=-1, keepdim=True)\n",
        "    dirs_encoded = [dirs]\n",
        "    for i in range(self.L_dir):\n",
        "      dirs_encoded.append(torch.sin(2 ** i * torch.pi * dirs))\n",
        "      dirs_encoded.append(torch.cos(2 ** i * torch.pi * dirs))\n",
        "    dirs_encoded = torch.cat(dirs_encoded, dim=-1)\n",
        "    # print(dirs_encoded.shape)\n",
        "\n",
        "\n",
        "    # 前向\n",
        "    outputs = self.early_mlp(pts_encoded)\n",
        "    outputs = self.late_mlp(torch.cat([pts_encoded, outputs], dim=-1))\n",
        "    outputs = self.density_layer(outputs) # 注意这一层没有激活函数\n",
        "    density = torch.relu(outputs[:, 0])\n",
        "\n",
        "    outpts = self.pre_final_layer(torch.cat([dirs_encoded, outputs[:, 1:]], dim=-1))\n",
        "    color = self.final_layer(outpts)\n",
        "    return {\"color\": color, \"density\": density}"
      ]
    },
    {
      "cell_type": "markdown",
      "metadata": {
        "id": "JAezLGFK8OE_"
      },
      "source": [
        "# 训练模型"
      ]
    },
    {
      "cell_type": "markdown",
      "metadata": {
        "id": "7t_5Ikq9F1fW"
      },
      "source": [
        "## 初始化模型参数"
      ]
    },
    {
      "cell_type": "code",
      "execution_count": 32,
      "metadata": {
        "collapsed": true,
        "id": "ufa3Yug0F0Me"
      },
      "outputs": [],
      "source": [
        "# Set seed.\n",
        "seed = 42\n",
        "torch.manual_seed(seed)\n",
        "np.random.seed(seed)\n",
        "\n",
        "# Initialize coarse and fine MLPs.\n",
        "device = torch.device('cuda' if torch.cuda.is_available() else 'cpu')\n",
        "F_c = NeRF().to(device)\n",
        "F_f = NeRF().to(device)\n",
        "# Number of query points passed through the MLP at a time. See: https://github.com/bmild/nerf/blob/18b8aebda6700ed659cb27a0c348b737a5f6ab60/run_nerf.py#L488.\n",
        "chunk_size = 1024 * 32\n",
        "# Number of training rays per iteration. See Section 5.3.\n",
        "batch_img_size = 64\n",
        "n_batch_pix = batch_img_size ** 2\n",
        "\n",
        "# Initialize optimizer. See Section 5.3.\n",
        "lr = 5e-4\n",
        "optimizer = optim.Adam(list(F_c.parameters()) + list(F_f.parameters()), lr=lr)\n",
        "criterion = nn.MSELoss()\n",
        "# The learning rate decays exponentially. See Section 5.3\n",
        "# See: https://github.com/bmild/nerf/blob/18b8aebda6700ed659cb27a0c348b737a5f6ab60/run_nerf.py#L486.\n",
        "lrate_decay = 250\n",
        "decay_steps = lrate_decay * 1000\n",
        "# See: https://github.com/bmild/nerf/blob/18b8aebda6700ed659cb27a0c348b737a5f6ab60/run_nerf.py#L707.\n",
        "decay_rate = 0.1\n"
      ]
    },
    {
      "cell_type": "markdown",
      "metadata": {
        "id": "vv40PRcdrqE2"
      },
      "source": [
        "## 导入数据"
      ]
    },
    {
      "cell_type": "code",
      "execution_count": null,
      "metadata": {
        "colab": {
          "base_uri": "https://localhost:8080/"
        },
        "id": "7rmn84S6robB",
        "outputId": "69441759-b53d-4aec-9dfa-5f8819c521cd"
      },
      "outputs": [],
      "source": [
        "# 导入lego数据集\n",
        "\n",
        "if not os.path.exists('lego.npz'):\n",
        "  !wget \"http://cseweb.ucsd.edu/~viscomp/projects/LF/papers/ECCV20/nerf/tiny_nerf_data.npz\" -O lego.npz\n",
        "if not os.path.exists('car.npz'):\n",
        "  !wget \"https://github.com/airalcorn2/pytorch-nerf/blob/master/66bdbc812bd0a196e194052f3f12cb2e.npz?raw=True\" -O car.npz\n",
        "\n",
        "# lego or car\n",
        "data_f = \"lego_train_val.npz\"\n",
        "data = np.load(data_f)"
      ]
    },
    {
      "cell_type": "code",
      "execution_count": 34,
      "metadata": {
        "colab": {
          "base_uri": "https://localhost:8080/",
          "height": 489
        },
        "id": "hD4jtuSD1yQL",
        "outputId": "7e500003-15ac-470f-f0d6-bd11594eb05c"
      },
      "outputs": [
        {
          "data": {
            "image/png": "[encoded data removed]",
            "text/plain": [
              "<Figure size 640x480 with 1 Axes>"
            ]
          },
          "metadata": {},
          "output_type": "display_data"
        }
      ],
      "source": [
        "\n",
        "# 像素平面在成像平面下的坐标是固定的，与相机位姿是无关的\n",
        "'''\n",
        "     ↑y\n",
        " →u    →x\n",
        "↓v\n",
        "'''\n",
        "images = torch.tensor(data[\"images\"].astype(np.float32))\n",
        "if data_f == \"car.npz\":\n",
        "  images = images/255\n",
        "poses = torch.tensor(data[\"poses\"].astype(np.float32))\n",
        "focal = float(data['focal'])\n",
        "# img_size = images.shape[1]\n",
        "H, W = images.shape[1:3]\n",
        "\n",
        "# 选择一张用来显示训练效果的图（图与位姿是一一对应的，从不同的位姿观察3D模型会产生不同的2D视图）\n",
        "test_idx = 10\n",
        "plt.imshow(images[test_idx])\n",
        "plt.show()\n",
        "test_img = torch.Tensor(images[test_idx]).to(device)\n",
        "\n",
        "test_os, test_ds = get_rays(H, W, focal, poses[test_idx])\n",
        "test_os = test_os.to(device) # [H, W, 3]\n",
        "test_ds = test_ds.to(device)"
      ]
    },
    {
      "cell_type": "markdown",
      "metadata": {
        "id": "1whxkxhnrvKD"
      },
      "source": [
        "## 初始化体渲染参数"
      ]
    },
    {
      "cell_type": "code",
      "execution_count": 35,
      "metadata": {
        "id": "-2K0fw1wox3w"
      },
      "outputs": [],
      "source": [
        "# Initialize volume rendering hyperparameters.\n",
        "# Near bound. See Section 4.\n",
        "t_n = 1.0\n",
        "# Far bound. See Section 4.\n",
        "t_f = 4.0\n",
        "# Number of coarse samples along a ray. See Section 5.3.\n",
        "N_c = 64\n",
        "# Number of fine samples along a ray. See Section 5.3.\n",
        "N_f = 128\n",
        "# Bins used to sample depths along a ray. See Equation (2) in Section 4.\n",
        "t_i_c_gap = (t_f - t_n) / N_c\n",
        "t_i_c_bin_edges = (t_n + torch.arange(N_c) * t_i_c_gap).to(device)"
      ]
    },
    {
      "cell_type": "markdown",
      "metadata": {
        "id": "nIYPuqT4r3eN"
      },
      "source": [
        "## 训练"
      ]
    },
    {
      "cell_type": "code",
      "execution_count": 36,
      "metadata": {
        "colab": {
          "base_uri": "https://localhost:8080/",
          "height": 1000
        },
        "id": "n7po1jMWZ_Ii",
        "outputId": "e0896111-c859-4851-eb34-9e2fe40d64ed"
      },
      "outputs": [
        {
          "name": "stdout",
          "output_type": "stream",
          "text": [
            "Found ckpts -->['./model/001000.tar', './model/002000.tar', './model/003000.tar', './model/004000.tar']\n"
          ]
        },
        {
          "ename": "OSError",
          "evalue": "[Errno 22] Invalid argument",
          "output_type": "error",
          "traceback": [
            "\u001b[0;31m---------------------------------------------------------------------------\u001b[0m",
            "\u001b[0;31mOSError\u001b[0m                                   Traceback (most recent call last)",
            "\u001b[0;32m<ipython-input-36-7d5d39001fad>\u001b[0m in \u001b[0;36m<cell line: 23>\u001b[0;34m()\u001b[0m\n\u001b[1;32m     26\u001b[0m   \u001b[0;32mif\u001b[0m \u001b[0mlen\u001b[0m\u001b[0;34m(\u001b[0m\u001b[0mckpts\u001b[0m\u001b[0;34m)\u001b[0m\u001b[0;34m>\u001b[0m\u001b[0;36m0\u001b[0m\u001b[0;34m:\u001b[0m\u001b[0;34m\u001b[0m\u001b[0;34m\u001b[0m\u001b[0m\n\u001b[1;32m     27\u001b[0m     \u001b[0mprint\u001b[0m\u001b[0;34m(\u001b[0m\u001b[0;34m'Found ckpts'\u001b[0m\u001b[0;34m,\u001b[0m\u001b[0;34mf'-->{ckpts}'\u001b[0m\u001b[0;34m)\u001b[0m\u001b[0;34m\u001b[0m\u001b[0;34m\u001b[0m\u001b[0m\n\u001b[0;32m---> 28\u001b[0;31m     \u001b[0mcheckpoint\u001b[0m \u001b[0;34m=\u001b[0m \u001b[0mtorch\u001b[0m\u001b[0;34m.\u001b[0m\u001b[0mload\u001b[0m\u001b[0;34m(\u001b[0m\u001b[0mckpts\u001b[0m\u001b[0;34m[\u001b[0m\u001b[0;34m-\u001b[0m\u001b[0;36m1\u001b[0m\u001b[0;34m]\u001b[0m\u001b[0;34m,\u001b[0m \u001b[0mweights_only\u001b[0m\u001b[0;34m=\u001b[0m\u001b[0;32mFalse\u001b[0m\u001b[0;34m)\u001b[0m\u001b[0;34m\u001b[0m\u001b[0;34m\u001b[0m\u001b[0m\n\u001b[0m\u001b[1;32m     29\u001b[0m     \u001b[0mF_c\u001b[0m\u001b[0;34m.\u001b[0m\u001b[0mload_state_dict\u001b[0m\u001b[0;34m(\u001b[0m\u001b[0mcheckpoint\u001b[0m\u001b[0;34m[\u001b[0m\u001b[0;34m'model_coarse_state_dict'\u001b[0m\u001b[0;34m]\u001b[0m\u001b[0;34m)\u001b[0m\u001b[0;34m\u001b[0m\u001b[0;34m\u001b[0m\u001b[0m\n\u001b[1;32m     30\u001b[0m     \u001b[0mF_f\u001b[0m\u001b[0;34m.\u001b[0m\u001b[0mload_state_dict\u001b[0m\u001b[0;34m(\u001b[0m\u001b[0mcheckpoint\u001b[0m\u001b[0;34m[\u001b[0m\u001b[0;34m'model_fine_state_dict'\u001b[0m\u001b[0;34m]\u001b[0m\u001b[0;34m)\u001b[0m\u001b[0;34m\u001b[0m\u001b[0;34m\u001b[0m\u001b[0m\n",
            "\u001b[0;32m/usr/local/lib/python3.10/dist-packages/torch/serialization.py\u001b[0m in \u001b[0;36mload\u001b[0;34m(f, map_location, pickle_module, weights_only, mmap, **pickle_load_args)\u001b[0m\n\u001b[1;32m   1324\u001b[0m             \u001b[0morig_position\u001b[0m \u001b[0;34m=\u001b[0m \u001b[0mopened_file\u001b[0m\u001b[0;34m.\u001b[0m\u001b[0mtell\u001b[0m\u001b[0;34m(\u001b[0m\u001b[0;34m)\u001b[0m\u001b[0;34m\u001b[0m\u001b[0;34m\u001b[0m\u001b[0m\n\u001b[1;32m   1325\u001b[0m             \u001b[0moverall_storage\u001b[0m \u001b[0;34m=\u001b[0m \u001b[0;32mNone\u001b[0m\u001b[0;34m\u001b[0m\u001b[0;34m\u001b[0m\u001b[0m\n\u001b[0;32m-> 1326\u001b[0;31m             \u001b[0;32mwith\u001b[0m \u001b[0m_open_zipfile_reader\u001b[0m\u001b[0;34m(\u001b[0m\u001b[0mopened_file\u001b[0m\u001b[0;34m)\u001b[0m \u001b[0;32mas\u001b[0m \u001b[0mopened_zipfile\u001b[0m\u001b[0;34m:\u001b[0m\u001b[0;34m\u001b[0m\u001b[0;34m\u001b[0m\u001b[0m\n\u001b[0m\u001b[1;32m   1327\u001b[0m                 \u001b[0;32mif\u001b[0m \u001b[0m_is_torchscript_zip\u001b[0m\u001b[0;34m(\u001b[0m\u001b[0mopened_zipfile\u001b[0m\u001b[0;34m)\u001b[0m\u001b[0;34m:\u001b[0m\u001b[0;34m\u001b[0m\u001b[0;34m\u001b[0m\u001b[0m\n\u001b[1;32m   1328\u001b[0m                     warnings.warn(\n",
            "\u001b[0;32m/usr/local/lib/python3.10/dist-packages/torch/serialization.py\u001b[0m in \u001b[0;36m__init__\u001b[0;34m(self, name_or_buffer)\u001b[0m\n\u001b[1;32m    669\u001b[0m \u001b[0;32mclass\u001b[0m \u001b[0m_open_zipfile_reader\u001b[0m\u001b[0;34m(\u001b[0m\u001b[0m_opener\u001b[0m\u001b[0;34m)\u001b[0m\u001b[0;34m:\u001b[0m\u001b[0;34m\u001b[0m\u001b[0;34m\u001b[0m\u001b[0m\n\u001b[1;32m    670\u001b[0m     \u001b[0;32mdef\u001b[0m \u001b[0m__init__\u001b[0m\u001b[0;34m(\u001b[0m\u001b[0mself\u001b[0m\u001b[0;34m,\u001b[0m \u001b[0mname_or_buffer\u001b[0m\u001b[0;34m)\u001b[0m \u001b[0;34m->\u001b[0m \u001b[0;32mNone\u001b[0m\u001b[0;34m:\u001b[0m\u001b[0;34m\u001b[0m\u001b[0;34m\u001b[0m\u001b[0m\n\u001b[0;32m--> 671\u001b[0;31m         \u001b[0msuper\u001b[0m\u001b[0;34m(\u001b[0m\u001b[0;34m)\u001b[0m\u001b[0;34m.\u001b[0m\u001b[0m__init__\u001b[0m\u001b[0;34m(\u001b[0m\u001b[0mtorch\u001b[0m\u001b[0;34m.\u001b[0m\u001b[0m_C\u001b[0m\u001b[0;34m.\u001b[0m\u001b[0mPyTorchFileReader\u001b[0m\u001b[0;34m(\u001b[0m\u001b[0mname_or_buffer\u001b[0m\u001b[0;34m)\u001b[0m\u001b[0;34m)\u001b[0m\u001b[0;34m\u001b[0m\u001b[0;34m\u001b[0m\u001b[0m\n\u001b[0m\u001b[1;32m    672\u001b[0m \u001b[0;34m\u001b[0m\u001b[0m\n\u001b[1;32m    673\u001b[0m \u001b[0;34m\u001b[0m\u001b[0m\n",
            "\u001b[0;31mOSError\u001b[0m: [Errno 22] Invalid argument"
          ]
        }
      ],
      "source": [
        "# Start training model.\n",
        "train_idxs = np.arange(len(images)) != test_idx\n",
        "images = images[train_idxs]\n",
        "poses = poses[train_idxs]\n",
        "n_pix = H*W # 一张图总的像素数量\n",
        "\n",
        "# 一个长为H*W，值为1/(H*W)的概率向量\n",
        "pixel_ps = torch.full((n_pix,), 1 / n_pix).to(device)\n",
        "psnrs = []\n",
        "iternums = []\n",
        "# See Section 5.3.\n",
        "global_step = 0\n",
        "num_iters = 100000\n",
        "display_every = 100\n",
        "weight_every = 100\n",
        "model_path = './model' # 训练模型的状态目录\n",
        "\n",
        "if os.path.exists(model_path) == False:\n",
        "  os.mkdir(model_path)\n",
        "\n",
        "# 检查点读取\n",
        "LOAD_ckpts = True\n",
        "if LOAD_ckpts:\n",
        "  ckpts = [os.path.join(model_path,f) for f in sorted(os.listdir(model_path)) if 'tar' in f]\n",
        "  # 升序排列，选择最后一轮开始训练\n",
        "  if len(ckpts)>0:\n",
        "    print('Found ckpts',f'-->{ckpts}')\n",
        "    checkpoint = torch.load(ckpts[-1], weights_only=False)\n",
        "    F_c.load_state_dict(checkpoint['model_coarse_state_dict'])\n",
        "    F_f.load_state_dict(checkpoint['model_fine_state_dict'])\n",
        "    optimizer.load_state_dict(checkpoint['optimizer_state_dict'])\n",
        "    global_step = checkpoint['global_step'] + 1\n",
        "    psnrs = checkpoint['psnrs']\n",
        "    iternums = checkpoint['iternums']\n",
        "  else:\n",
        "    print('No ckpts found')\n",
        "    print('Train from scratch')\n",
        "\n",
        "F_c.train()\n",
        "F_f.train()\n",
        "\n",
        "for i in trange(global_step, num_iters):\n",
        "    # 从训练集中随机选一个位姿\n",
        "    target_img_idx = np.random.randint(images.shape[0])\n",
        "    target_pose = poses[target_img_idx].to(device)\n",
        "    rays_o, rays_d = get_rays(H, W, focal, target_pose)\n",
        "\n",
        "    # Sample a batch of rays.\n",
        "    # 不放回的抽样，从pixel_ps的分布中抽出n_batch_pix个样本\n",
        "    # 换言之，从所有的像素中抽出n_batch_pix个像素\n",
        "    pix_idxs = pixel_ps.multinomial(n_batch_pix, False)\n",
        "    # 将展平后的一维索引转换成原图片的二维索引\n",
        "    pix_idx_rows = pix_idxs // W\n",
        "    pix_idx_cols = pix_idxs % W\n",
        "\n",
        "    # n_batch_pix = batch_img_size ** 2\n",
        "    ds_batch = rays_d[pix_idx_rows, pix_idx_cols].reshape(\n",
        "        batch_img_size, batch_img_size, -1\n",
        "    )\n",
        "    os_batch = rays_o[pix_idx_rows, pix_idx_cols].reshape(\n",
        "        batch_img_size, batch_img_size, -1\n",
        "    )\n",
        "\n",
        "    # Run NeRF.\n",
        "    (C_rs_c, C_rs_f) = run_one_iter_of_nerf(\n",
        "        os_batch,\n",
        "        ds_batch,\n",
        "        t_i_c_bin_edges,\n",
        "        t_i_c_gap,\n",
        "        N_c,\n",
        "        N_f,\n",
        "        chunk_size,\n",
        "        F_c,\n",
        "        F_f,\n",
        "    )\n",
        "    target_img = images[target_img_idx].to(device)\n",
        "    target_img_batch = target_img[pix_idx_rows, pix_idx_cols].reshape(C_rs_f.shape)\n",
        "    # Calculate the mean squared error for both the coarse and fine MLP models and\n",
        "    # update the weights. See Equation (6) in Section 5.3.\n",
        "    loss = criterion(C_rs_c, target_img_batch) + criterion(C_rs_f, target_img_batch)\n",
        "    optimizer.zero_grad()\n",
        "    loss.backward()\n",
        "    optimizer.step()\n",
        "\n",
        "    # Exponentially decay learning rate. See Section 5.3 and:\n",
        "    # https://keras.io/api/optimizers/learning_rate_schedules/exponential_decay/.\n",
        "    for g in optimizer.param_groups:\n",
        "        g[\"lr\"] = lr * decay_rate ** (i / decay_steps)\n",
        "\n",
        "\n",
        "    if i % display_every == 0 and i > 0:\n",
        "        F_c.eval()\n",
        "        F_f.eval()\n",
        "        with torch.no_grad():\n",
        "            (_, C_rs_f) = run_one_iter_of_nerf(\n",
        "                test_os,\n",
        "                test_ds,\n",
        "                t_i_c_bin_edges,\n",
        "                t_i_c_gap,\n",
        "                N_c,\n",
        "                N_f,\n",
        "                chunk_size,\n",
        "                F_c,\n",
        "                F_f,\n",
        "            )\n",
        "\n",
        "        loss = criterion(C_rs_f, test_img)\n",
        "        print(f\"Loss: {loss.item()}\")\n",
        "        psnr = -10.0 * torch.log10(loss)\n",
        "\n",
        "        psnrs.append(psnr.item())\n",
        "        iternums.append(i)\n",
        "\n",
        "        plt.figure(figsize=(10, 4))\n",
        "        plt.subplot(121)\n",
        "        plt.imshow(C_rs_f.detach().cpu().numpy())\n",
        "        plt.title(f\"Iteration {i}\")\n",
        "        plt.subplot(122)\n",
        "        plt.plot(iternums, psnrs)\n",
        "        plt.title(\"PSNR\")\n",
        "        plt.show()\n",
        "\n",
        "        F_c.train()\n",
        "        F_f.train()\n",
        "\n",
        "    # 存储模型，check points 检查点\n",
        "    if i % weight_every == 0 and i > 0:\n",
        "      path = os.path.join(model_path, '{:06d}.tar'.format(i))\n",
        "      torch.save(\n",
        "            {\n",
        "                \"model_coarse_state_dict\": F_c.state_dict(),\n",
        "                \"model_fine_state_dict\": F_f.state_dict(),\n",
        "                \"optimizer_state_dict\": optimizer.state_dict(),\n",
        "                'global_step': i,\n",
        "                'psnrs': psnrs,\n",
        "                'iternums': iternums,\n",
        "            },\n",
        "            path,\n",
        "          )\n",
        "\n",
        "print(\"Done!\")"
      ]
    }
  ],
  "metadata": {
    "accelerator": "GPU",
    "colab": {
      "gpuType": "L4",
      "machine_shape": "hm",
      "provenance": []
    },
    "kernelspec": {
      "display_name": "Python 3",
      "name": "python3"
    },
    "language_info": {
      "codemirror_mode": {
        "name": "ipython",
        "version": 3
      },
      "file_extension": ".py",
      "mimetype": "text/x-python",
      "name": "python",
      "nbconvert_exporter": "python",
      "pygments_lexer": "ipython3",
      "version": "3.10.12"
    }
  },
  "nbformat": 4,
  "nbformat_minor": 0
}
